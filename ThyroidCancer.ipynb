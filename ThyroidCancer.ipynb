{
 "cells": [
  {
   "cell_type": "code",
   "id": "c75a099d-207c-48a8-a2ca-2b9232ea7b8d",
   "metadata": {
    "ExecuteTime": {
     "end_time": "2024-10-31T15:31:49.889725Z",
     "start_time": "2024-10-31T15:31:49.878652Z"
    }
   },
   "source": [
    "import pandas as pd\n",
    "import numpy as np\n",
    "from sklearn.model_selection import train_test_split\n",
    "from sklearn.preprocessing import StandardScaler, LabelEncoder\n",
    "from tensorflow.keras.models import Sequential\n",
    "from tensorflow.keras.layers import Dense\n",
    "import streamlit as st"
   ],
   "outputs": [],
   "execution_count": 18
  },
  {
   "cell_type": "code",
   "id": "aadb6e9b-2159-43ff-b9f7-33794754a8bb",
   "metadata": {
    "ExecuteTime": {
     "end_time": "2024-10-31T15:31:49.905732Z",
     "start_time": "2024-10-31T15:31:49.894735Z"
    }
   },
   "source": [
    "data = pd.read_csv(r'C:\\Users\\Kruti Agrawal\\Desktop\\Projects\\thyroid_cancer\\thyroid_cancer\\dataset.csv')"
   ],
   "outputs": [],
   "execution_count": 19
  },
  {
   "cell_type": "code",
   "id": "d4fc65ba-c6b1-4fe1-ad71-fd63a3d5d942",
   "metadata": {
    "ExecuteTime": {
     "end_time": "2024-10-31T15:31:49.952413Z",
     "start_time": "2024-10-31T15:31:49.939229Z"
    }
   },
   "source": [
    "print(data.head())"
   ],
   "outputs": [
    {
     "name": "stdout",
     "output_type": "stream",
     "text": [
      "   Age Gender Smoking Hx Smoking Hx Radiotherapy Thyroid Function  \\\n",
      "0   27      F      No         No              No        Euthyroid   \n",
      "1   34      F      No        Yes              No        Euthyroid   \n",
      "2   30      F      No         No              No        Euthyroid   \n",
      "3   62      F      No         No              No        Euthyroid   \n",
      "4   62      F      No         No              No        Euthyroid   \n",
      "\n",
      "          Physical Examination Adenopathy       Pathology     Focality Risk  \\\n",
      "0   Single nodular goiter-left         No  Micropapillary    Uni-Focal  Low   \n",
      "1          Multinodular goiter         No  Micropapillary    Uni-Focal  Low   \n",
      "2  Single nodular goiter-right         No  Micropapillary    Uni-Focal  Low   \n",
      "3  Single nodular goiter-right         No  Micropapillary    Uni-Focal  Low   \n",
      "4          Multinodular goiter         No  Micropapillary  Multi-Focal  Low   \n",
      "\n",
      "     T   N   M Stage       Response Recurred  \n",
      "0  T1a  N0  M0     I  Indeterminate       No  \n",
      "1  T1a  N0  M0     I      Excellent       No  \n",
      "2  T1a  N0  M0     I      Excellent       No  \n",
      "3  T1a  N0  M0     I      Excellent       No  \n",
      "4  T1a  N0  M0     I      Excellent       No  \n"
     ]
    }
   ],
   "execution_count": 20
  },
  {
   "cell_type": "code",
   "id": "0619f3f9-8042-4247-bb50-f9d035704bf0",
   "metadata": {
    "ExecuteTime": {
     "end_time": "2024-10-31T15:31:49.999933Z",
     "start_time": "2024-10-31T15:31:49.985937Z"
    }
   },
   "source": [
    "label_encoders = {}\n",
    "categorical_columns = ['Gender', 'Smoking', 'Hx Smoking', 'Hx Radiotherapy', \n",
    "                       'Thyroid Function', 'Physical Examination', \n",
    "                       'Adenopathy', 'Pathology', 'Focality', \n",
    "                       'Risk', 'T', 'N', 'M', 'Stage', 'Response', 'Recurred']\n",
    "\n",
    "for column in categorical_columns:\n",
    "    le = LabelEncoder()\n",
    "    data[column] = le.fit_transform(data[column])\n",
    "    label_encoders[column] = le"
   ],
   "outputs": [],
   "execution_count": 21
  },
  {
   "metadata": {
    "ExecuteTime": {
     "end_time": "2024-10-31T15:31:50.045851Z",
     "start_time": "2024-10-31T15:31:50.032132Z"
    }
   },
   "cell_type": "code",
   "source": [
    "import pickle\n",
    "\n",
    "for column, le in label_encoders.items():\n",
    "    with open(f'{column}_encoder.pkl', 'wb') as file:\n",
    "        pickle.dump(le, file)"
   ],
   "id": "8926b88b1243dfe5",
   "outputs": [],
   "execution_count": 22
  },
  {
   "cell_type": "code",
   "id": "71b4ffd3-618f-4318-8e55-254b4d6e12b2",
   "metadata": {
    "ExecuteTime": {
     "end_time": "2024-10-31T15:31:50.092663Z",
     "start_time": "2024-10-31T15:31:50.078662Z"
    }
   },
   "source": [
    "X = data.drop('Recurred', axis=1)\n",
    "y = data['Recurred']"
   ],
   "outputs": [],
   "execution_count": 23
  },
  {
   "cell_type": "code",
   "id": "3e471537-5344-4736-b489-ee7f1210ed1b",
   "metadata": {
    "ExecuteTime": {
     "end_time": "2024-10-31T15:31:50.139001Z",
     "start_time": "2024-10-31T15:31:50.125389Z"
    }
   },
   "source": [
    "X_train, X_test, y_train, y_test = train_test_split(X, y, test_size=0.2, random_state=42)"
   ],
   "outputs": [],
   "execution_count": 24
  },
  {
   "cell_type": "code",
   "id": "bd85d8b3-773f-4793-abbc-980daf30e986",
   "metadata": {
    "ExecuteTime": {
     "end_time": "2024-10-31T15:31:50.185677Z",
     "start_time": "2024-10-31T15:31:50.172678Z"
    }
   },
   "source": [
    "scaler = StandardScaler()\n",
    "X_train = scaler.fit_transform(X_train)\n",
    "X_test = scaler.transform(X_test)"
   ],
   "outputs": [],
   "execution_count": 25
  },
  {
   "cell_type": "code",
   "id": "8004a3ec-8d70-415d-ab7f-45f884b2f0d2",
   "metadata": {
    "ExecuteTime": {
     "end_time": "2024-10-31T15:31:50.263171Z",
     "start_time": "2024-10-31T15:31:50.219484Z"
    }
   },
   "source": [
    "model = Sequential()\n",
    "model.add(Dense(64, activation='relu', input_shape=(X_train.shape[1],)))\n",
    "model.add(Dense(32, activation='relu'))\n",
    "model.add(Dense(1, activation='sigmoid'))"
   ],
   "outputs": [],
   "execution_count": 26
  },
  {
   "cell_type": "code",
   "id": "5472b93f-c33f-4766-8fbb-df772db9874f",
   "metadata": {
    "ExecuteTime": {
     "end_time": "2024-10-31T15:31:50.309474Z",
     "start_time": "2024-10-31T15:31:50.296163Z"
    }
   },
   "source": [
    "model.compile(optimizer='adam', loss='binary_crossentropy', metrics=['accuracy'])"
   ],
   "outputs": [],
   "execution_count": 27
  },
  {
   "cell_type": "code",
   "id": "e0f0ac19-2b3b-4a9d-88f3-ea41e72e41e9",
   "metadata": {
    "ExecuteTime": {
     "end_time": "2024-10-31T15:31:53.274137Z",
     "start_time": "2024-10-31T15:31:50.341880Z"
    }
   },
   "source": [
    "model.fit(X_train, y_train, epochs=50, batch_size=10, validation_split=0.2)"
   ],
   "outputs": [
    {
     "name": "stdout",
     "output_type": "stream",
     "text": [
      "Epoch 1/50\n",
      "25/25 [==============================] - 1s 5ms/step - loss: 0.6055 - accuracy: 0.7705 - val_loss: 0.5192 - val_accuracy: 0.8710\n",
      "Epoch 2/50\n",
      "25/25 [==============================] - 0s 2ms/step - loss: 0.4279 - accuracy: 0.9057 - val_loss: 0.3971 - val_accuracy: 0.8710\n",
      "Epoch 3/50\n",
      "25/25 [==============================] - 0s 2ms/step - loss: 0.3109 - accuracy: 0.9098 - val_loss: 0.3381 - val_accuracy: 0.8387\n",
      "Epoch 4/50\n",
      "25/25 [==============================] - 0s 2ms/step - loss: 0.2447 - accuracy: 0.9303 - val_loss: 0.3087 - val_accuracy: 0.8548\n",
      "Epoch 5/50\n",
      "25/25 [==============================] - 0s 2ms/step - loss: 0.2042 - accuracy: 0.9303 - val_loss: 0.3193 - val_accuracy: 0.8548\n",
      "Epoch 6/50\n",
      "25/25 [==============================] - 0s 2ms/step - loss: 0.1769 - accuracy: 0.9385 - val_loss: 0.3288 - val_accuracy: 0.8548\n",
      "Epoch 7/50\n",
      "25/25 [==============================] - 0s 2ms/step - loss: 0.1591 - accuracy: 0.9426 - val_loss: 0.3398 - val_accuracy: 0.8548\n",
      "Epoch 8/50\n",
      "25/25 [==============================] - 0s 2ms/step - loss: 0.1429 - accuracy: 0.9426 - val_loss: 0.3621 - val_accuracy: 0.8548\n",
      "Epoch 9/50\n",
      "25/25 [==============================] - 0s 2ms/step - loss: 0.1300 - accuracy: 0.9467 - val_loss: 0.3721 - val_accuracy: 0.8710\n",
      "Epoch 10/50\n",
      "25/25 [==============================] - 0s 2ms/step - loss: 0.1193 - accuracy: 0.9590 - val_loss: 0.3916 - val_accuracy: 0.8548\n",
      "Epoch 11/50\n",
      "25/25 [==============================] - 0s 2ms/step - loss: 0.1084 - accuracy: 0.9672 - val_loss: 0.4033 - val_accuracy: 0.8548\n",
      "Epoch 12/50\n",
      "25/25 [==============================] - 0s 2ms/step - loss: 0.1006 - accuracy: 0.9672 - val_loss: 0.4241 - val_accuracy: 0.8710\n",
      "Epoch 13/50\n",
      "25/25 [==============================] - 0s 2ms/step - loss: 0.0915 - accuracy: 0.9795 - val_loss: 0.4376 - val_accuracy: 0.8710\n",
      "Epoch 14/50\n",
      "25/25 [==============================] - 0s 2ms/step - loss: 0.0849 - accuracy: 0.9795 - val_loss: 0.4489 - val_accuracy: 0.8710\n",
      "Epoch 15/50\n",
      "25/25 [==============================] - 0s 2ms/step - loss: 0.0796 - accuracy: 0.9795 - val_loss: 0.4772 - val_accuracy: 0.8710\n",
      "Epoch 16/50\n",
      "25/25 [==============================] - 0s 2ms/step - loss: 0.0729 - accuracy: 0.9836 - val_loss: 0.4705 - val_accuracy: 0.8548\n",
      "Epoch 17/50\n",
      "25/25 [==============================] - 0s 2ms/step - loss: 0.0671 - accuracy: 0.9754 - val_loss: 0.5141 - val_accuracy: 0.8710\n",
      "Epoch 18/50\n",
      "25/25 [==============================] - 0s 2ms/step - loss: 0.0610 - accuracy: 0.9836 - val_loss: 0.5156 - val_accuracy: 0.8548\n",
      "Epoch 19/50\n",
      "25/25 [==============================] - 0s 2ms/step - loss: 0.0545 - accuracy: 0.9836 - val_loss: 0.5280 - val_accuracy: 0.8548\n",
      "Epoch 20/50\n",
      "25/25 [==============================] - 0s 2ms/step - loss: 0.0494 - accuracy: 0.9877 - val_loss: 0.5642 - val_accuracy: 0.8710\n",
      "Epoch 21/50\n",
      "25/25 [==============================] - 0s 2ms/step - loss: 0.0448 - accuracy: 0.9877 - val_loss: 0.5595 - val_accuracy: 0.8548\n",
      "Epoch 22/50\n",
      "25/25 [==============================] - 0s 2ms/step - loss: 0.0415 - accuracy: 0.9836 - val_loss: 0.5829 - val_accuracy: 0.8710\n",
      "Epoch 23/50\n",
      "25/25 [==============================] - 0s 2ms/step - loss: 0.0366 - accuracy: 0.9959 - val_loss: 0.6021 - val_accuracy: 0.8710\n",
      "Epoch 24/50\n",
      "25/25 [==============================] - 0s 2ms/step - loss: 0.0333 - accuracy: 1.0000 - val_loss: 0.6108 - val_accuracy: 0.8548\n",
      "Epoch 25/50\n",
      "25/25 [==============================] - 0s 2ms/step - loss: 0.0296 - accuracy: 1.0000 - val_loss: 0.6347 - val_accuracy: 0.8548\n",
      "Epoch 26/50\n",
      "25/25 [==============================] - 0s 2ms/step - loss: 0.0272 - accuracy: 1.0000 - val_loss: 0.6511 - val_accuracy: 0.8710\n",
      "Epoch 27/50\n",
      "25/25 [==============================] - 0s 2ms/step - loss: 0.0243 - accuracy: 1.0000 - val_loss: 0.6541 - val_accuracy: 0.8548\n",
      "Epoch 28/50\n",
      "25/25 [==============================] - 0s 2ms/step - loss: 0.0219 - accuracy: 1.0000 - val_loss: 0.6839 - val_accuracy: 0.8548\n",
      "Epoch 29/50\n",
      "25/25 [==============================] - 0s 2ms/step - loss: 0.0198 - accuracy: 1.0000 - val_loss: 0.6920 - val_accuracy: 0.8548\n",
      "Epoch 30/50\n",
      "25/25 [==============================] - 0s 2ms/step - loss: 0.0182 - accuracy: 1.0000 - val_loss: 0.7104 - val_accuracy: 0.8548\n",
      "Epoch 31/50\n",
      "25/25 [==============================] - 0s 2ms/step - loss: 0.0169 - accuracy: 1.0000 - val_loss: 0.7183 - val_accuracy: 0.8548\n",
      "Epoch 32/50\n",
      "25/25 [==============================] - 0s 2ms/step - loss: 0.0149 - accuracy: 1.0000 - val_loss: 0.7383 - val_accuracy: 0.8548\n",
      "Epoch 33/50\n",
      "25/25 [==============================] - 0s 2ms/step - loss: 0.0135 - accuracy: 1.0000 - val_loss: 0.7502 - val_accuracy: 0.8548\n",
      "Epoch 34/50\n",
      "25/25 [==============================] - 0s 2ms/step - loss: 0.0124 - accuracy: 1.0000 - val_loss: 0.7740 - val_accuracy: 0.8548\n",
      "Epoch 35/50\n",
      "25/25 [==============================] - 0s 2ms/step - loss: 0.0113 - accuracy: 1.0000 - val_loss: 0.7835 - val_accuracy: 0.8548\n",
      "Epoch 36/50\n",
      "25/25 [==============================] - 0s 2ms/step - loss: 0.0102 - accuracy: 1.0000 - val_loss: 0.7997 - val_accuracy: 0.8548\n",
      "Epoch 37/50\n",
      "25/25 [==============================] - 0s 2ms/step - loss: 0.0096 - accuracy: 1.0000 - val_loss: 0.8163 - val_accuracy: 0.8548\n",
      "Epoch 38/50\n",
      "25/25 [==============================] - 0s 2ms/step - loss: 0.0089 - accuracy: 1.0000 - val_loss: 0.8276 - val_accuracy: 0.8548\n",
      "Epoch 39/50\n",
      "25/25 [==============================] - 0s 2ms/step - loss: 0.0082 - accuracy: 1.0000 - val_loss: 0.8415 - val_accuracy: 0.8548\n",
      "Epoch 40/50\n",
      "25/25 [==============================] - 0s 2ms/step - loss: 0.0075 - accuracy: 1.0000 - val_loss: 0.8603 - val_accuracy: 0.8548\n",
      "Epoch 41/50\n",
      "25/25 [==============================] - 0s 2ms/step - loss: 0.0069 - accuracy: 1.0000 - val_loss: 0.8645 - val_accuracy: 0.8548\n",
      "Epoch 42/50\n",
      "25/25 [==============================] - 0s 2ms/step - loss: 0.0064 - accuracy: 1.0000 - val_loss: 0.8879 - val_accuracy: 0.8548\n",
      "Epoch 43/50\n",
      "25/25 [==============================] - 0s 2ms/step - loss: 0.0060 - accuracy: 1.0000 - val_loss: 0.9037 - val_accuracy: 0.8548\n",
      "Epoch 44/50\n",
      "25/25 [==============================] - 0s 2ms/step - loss: 0.0054 - accuracy: 1.0000 - val_loss: 0.9006 - val_accuracy: 0.8548\n",
      "Epoch 45/50\n",
      "25/25 [==============================] - 0s 2ms/step - loss: 0.0051 - accuracy: 1.0000 - val_loss: 0.9186 - val_accuracy: 0.8548\n",
      "Epoch 46/50\n",
      "25/25 [==============================] - 0s 2ms/step - loss: 0.0048 - accuracy: 1.0000 - val_loss: 0.9333 - val_accuracy: 0.8548\n",
      "Epoch 47/50\n",
      "25/25 [==============================] - 0s 2ms/step - loss: 0.0044 - accuracy: 1.0000 - val_loss: 0.9370 - val_accuracy: 0.8548\n",
      "Epoch 48/50\n",
      "25/25 [==============================] - 0s 2ms/step - loss: 0.0043 - accuracy: 1.0000 - val_loss: 0.9541 - val_accuracy: 0.8548\n",
      "Epoch 49/50\n",
      "25/25 [==============================] - 0s 2ms/step - loss: 0.0039 - accuracy: 1.0000 - val_loss: 0.9626 - val_accuracy: 0.8548\n",
      "Epoch 50/50\n",
      "25/25 [==============================] - 0s 2ms/step - loss: 0.0037 - accuracy: 1.0000 - val_loss: 0.9711 - val_accuracy: 0.8548\n"
     ]
    },
    {
     "data": {
      "text/plain": [
       "<keras.src.callbacks.History at 0x179fbbc96a0>"
      ]
     },
     "execution_count": 28,
     "metadata": {},
     "output_type": "execute_result"
    }
   ],
   "execution_count": 28
  },
  {
   "cell_type": "code",
   "id": "88d3666d-3983-4358-97ba-9b5e66db2324",
   "metadata": {
    "ExecuteTime": {
     "end_time": "2024-10-31T15:31:53.414376Z",
     "start_time": "2024-10-31T15:31:53.346180Z"
    }
   },
   "source": [
    "test_loss, test_accuracy = model.evaluate(X_test, y_test)\n",
    "st.write(f'Test accuracy: {test_accuracy:.2f}')"
   ],
   "outputs": [
    {
     "name": "stdout",
     "output_type": "stream",
     "text": [
      "3/3 [==============================] - 0s 2ms/step - loss: 0.3293 - accuracy: 0.9610\n"
     ]
    },
    {
     "name": "stderr",
     "output_type": "stream",
     "text": [
      "2024-10-31 21:01:53.395 Thread 'MainThread': missing ScriptRunContext! This warning can be ignored when running in bare mode.\n",
      "2024-10-31 21:01:53.395 Thread 'MainThread': missing ScriptRunContext! This warning can be ignored when running in bare mode.\n",
      "2024-10-31 21:01:53.396 Thread 'MainThread': missing ScriptRunContext! This warning can be ignored when running in bare mode.\n",
      "2024-10-31 21:01:53.397 Thread 'MainThread': missing ScriptRunContext! This warning can be ignored when running in bare mode.\n"
     ]
    }
   ],
   "execution_count": 29
  },
  {
   "cell_type": "code",
   "id": "ad026f4d-dd48-4721-a23b-0860b6eaa81b",
   "metadata": {
    "ExecuteTime": {
     "end_time": "2024-10-31T15:31:53.506673Z",
     "start_time": "2024-10-31T15:31:53.474586Z"
    }
   },
   "source": [
    "model.save('thyroid_cancer_model.h5')"
   ],
   "outputs": [
    {
     "name": "stderr",
     "output_type": "stream",
     "text": [
      "C:\\Users\\Kruti Agrawal\\anaconda3\\envs\\new_env\\lib\\site-packages\\keras\\src\\engine\\training.py:3000: UserWarning: You are saving your model as an HDF5 file via `model.save()`. This file format is considered legacy. We recommend using instead the native Keras format, e.g. `model.save('my_model.keras')`.\n",
      "  saving_api.save_model(\n"
     ]
    }
   ],
   "execution_count": 30
  },
  {
   "cell_type": "code",
   "id": "2b33328c-de0c-47a6-a0ae-f16c806516f3",
   "metadata": {
    "ExecuteTime": {
     "end_time": "2024-10-31T15:42:45.110561Z",
     "start_time": "2024-10-31T15:42:45.090016Z"
    }
   },
   "source": [
    "np.save('scaler_mean.npy', scaler.mean_)\n",
    "np.save('scaler_scale.npy', scaler.scale_)"
   ],
   "outputs": [],
   "execution_count": 31
  }
 ],
 "metadata": {
  "kernelspec": {
   "display_name": "Python 3 (ipykernel)",
   "language": "python",
   "name": "python3"
  },
  "language_info": {
   "codemirror_mode": {
    "name": "ipython",
    "version": 3
   },
   "file_extension": ".py",
   "mimetype": "text/x-python",
   "name": "python",
   "nbconvert_exporter": "python",
   "pygments_lexer": "ipython3",
   "version": "3.12.4"
  }
 },
 "nbformat": 4,
 "nbformat_minor": 5
}
